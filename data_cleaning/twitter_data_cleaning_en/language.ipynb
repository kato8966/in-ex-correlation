{
 "cells": [
  {
   "cell_type": "code",
   "execution_count": null,
   "metadata": {},
   "outputs": [],
   "source": [
    "import json\n",
    "import os\n",
    "import pandas as pd"
   ]
  },
  {
   "cell_type": "code",
   "execution_count": null,
   "metadata": {},
   "outputs": [],
   "source": [
    "year = '2017'\n",
    "month = '04'\n",
    "day  = '01'\n",
    "language = \"en\""
   ]
  },
  {
   "cell_type": "code",
   "execution_count": null,
   "metadata": {},
   "outputs": [],
   "source": [
    "path = os.path.join('stream', year, month, day)\n",
    "\n",
    "tweets = []\n",
    "\n",
    "for a in range(0,3):\n",
    "    for b in range(0,10):\n",
    "        if a*10 + b > 23:\n",
    "            continue\n",
    "        hour = str(a) + str(b)\n",
    "        if hour != '00':\n",
    "            continue\n",
    "        print(\"\\nImporting data from hour\", hour)\n",
    "        for d in range(0,6):\n",
    "            for u in range(0,10):\n",
    "                minute = str(d) + str(u)\n",
    "                file = os.path.join(path, hour, minute + '.json')\n",
    "                try:\n",
    "                    with open(file) as fin:\n",
    "                        for line in fin:\n",
    "                            tweet = json.loads(line)\n",
    "                            if (\"lang\" in tweet.keys()) and (tweet[\"lang\"]==language):\n",
    "                                tweets.append(tweet)\n",
    "                                if (\"\\t\" in tweet[\"text\"]):\n",
    "                                    print(\"Tab character found!\")\n",
    "                                if (\"\\\\\" in tweet[\"text\"]):\n",
    "                                    print(\"Backslash found\")\n",
    "                except FileNotFoundError:\n",
    "                    print(\"Not Found:\" , hour, minute)\n",
    "\n",
    "print(\"\\nTotal Tweets found:\")\n",
    "print(len(tweets))"
   ]
  },
  {
   "cell_type": "code",
   "execution_count": null,
   "metadata": {},
   "outputs": [],
   "source": [
    "nokeep = [\"user\", \"geo\", \"coordinates\", \"quote_count\", \"contributors\",\"reply_count\",\"retweet_count\", \"favorited\",\n",
    "          \"retweeted\", \"in_reply_to_status_id\", \"in_reply_to_status_id_str\", \"id_str\", \"created_at\", \"favorite_count\",\n",
    "          \"in_reply_to_user_id\", \"in_reply_to_user_id_str\", \"in_reply_to_screen_name\", \"display_text_range\", \"source\",\n",
    "          \"timestamp_ms\", \"retweeted_status\", \"entities\", \"extended_entities\", \"delete\", \"truncated\", \"is_quote_status\",\n",
    "          \"extended_tweet\", \"filter_level\", \"possibly_sensitive\", \"quoted_status_id\", \"quoted_status_id_str\",\n",
    "          \"quoted_status\", \"quoted_status_permalink\", \"TR\", \"DE\", \"withheld_in_countries\"]\n",
    "\n",
    "special = [\"truncated\", \"is_quote_status\", \"extended_tweet\"]\n",
    "\n",
    "keep = [\"id\", \"text\", \"lang\", \"place\"]\n",
    "\n",
    "other = []\n",
    "\n",
    "for tweet in tweets:\n",
    "    for key in tweet.keys():\n",
    "        if key not in nokeep+keep:\n",
    "            check = \"withheld_in_countries\"\n",
    "            if key==check and tweet[check]!=False:\n",
    "                print(tweet[check])\n",
    "            if key not in other:\n",
    "                other.append(key)\n",
    "            \n",
    "print(other)"
   ]
  },
  {
   "cell_type": "code",
   "execution_count": null,
   "metadata": {},
   "outputs": [],
   "source": [
    "df = pd.DataFrame(tweets)\n",
    "df = df.set_index(\"id\")    \n",
    "df = df.fillna(\"\")"
   ]
  },
  {
   "cell_type": "code",
   "execution_count": null,
   "metadata": {},
   "outputs": [],
   "source": [
    "df_clean = df.loc[pd.notnull(df[\"retweeted_status\"])]\n",
    "df_clean = df_clean.loc[df_clean[\"retweeted_status\"]==\"\"]"
   ]
  },
  {
   "cell_type": "code",
   "execution_count": null,
   "metadata": {},
   "outputs": [],
   "source": [
    "if 'withheld_in_countries' in df_clean:\n",
    "    df_clean = df_clean.loc[df_clean['withheld_in_countries'] == '']"
   ]
  },
  {
   "cell_type": "code",
   "execution_count": null,
   "metadata": {},
   "outputs": [],
   "source": [
    "print(df.shape[0])\n",
    "print(df_clean.shape[0])"
   ]
  },
  {
   "cell_type": "code",
   "execution_count": null,
   "metadata": {},
   "outputs": [],
   "source": [
    "tweet_texts = df_clean['text']\n",
    "# remove newlines\n",
    "tweet_texts = tweet_texts.str.replace('\\r\\n', ' ')\n",
    "tweet_texts = tweet_texts.str.replace('\\n', ' ')\n",
    "tweet_texts = tweet_texts.str.replace('\\r', ' ')\n",
    "tweet_texts = tweet_texts.str.replace('\\v', ' ')\n",
    "tweet_texts = tweet_texts.str.replace('\\f', ' ')\n",
    "tweet_texts = tweet_texts.str.replace(chr(0x85), ' ')  # next line\n",
    "tweet_texts = tweet_texts.str.replace(chr(0x2028), ' ')  # line separator\n",
    "tweet_texts = tweet_texts.str.replace(chr(0x2029), ' ')  # paragraph separator"
   ]
  },
  {
   "cell_type": "code",
   "execution_count": null,
   "metadata": {},
   "outputs": [],
   "source": [
    "with open(f'stream_{year}_{month}_{day}.txt', 'w') as fout:\n",
    "    for tweet_text in tweet_texts:\n",
    "        print(tweet_text, file=fout)"
   ]
  }
 ],
 "metadata": {
  "kernelspec": {
   "display_name": "Python 3",
   "language": "python",
   "name": "python3"
  },
  "language_info": {
   "codemirror_mode": {
    "name": "ipython",
    "version": 3
   },
   "file_extension": ".py",
   "mimetype": "text/x-python",
   "name": "python",
   "nbconvert_exporter": "python",
   "pygments_lexer": "ipython3",
   "version": "3.11.4"
  }
 },
 "nbformat": 4,
 "nbformat_minor": 4
}
